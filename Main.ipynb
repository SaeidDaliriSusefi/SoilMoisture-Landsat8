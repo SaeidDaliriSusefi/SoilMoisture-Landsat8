{
  "nbformat": 4,
  "nbformat_minor": 0,
  "metadata": {
    "colab": {
      "provenance": [],
      "authorship_tag": "ABX9TyOdRV6uXZd3gHvvvocomPc4",
      "include_colab_link": true
    },
    "kernelspec": {
      "name": "python3",
      "display_name": "Python 3"
    },
    "language_info": {
      "name": "python"
    }
  },
  "cells": [
    {
      "cell_type": "markdown",
      "metadata": {
        "id": "view-in-github",
        "colab_type": "text"
      },
      "source": [
        "<a href=\"https://colab.research.google.com/github/SaeidDaliriSusefi/SoilMoisture-Landsat8/blob/main/Main.ipynb\" target=\"_parent\"><img src=\"https://colab.research.google.com/assets/colab-badge.svg\" alt=\"Open In Colab\"/></a>"
      ]
    },
    {
      "cell_type": "code",
      "execution_count": null,
      "metadata": {
        "colab": {
          "base_uri": "https://localhost:8080/",
          "height": 17
        },
        "id": "KWN_yA2wbIzB",
        "outputId": "4d52c444-501f-4374-bb19-c3dd8da2fb12"
      },
      "outputs": [
        {
          "output_type": "display_data",
          "data": {
            "text/plain": [
              "<IPython.core.display.HTML object>"
            ],
            "text/html": [
              "\n",
              "            <style>\n",
              "                .geemap-dark {\n",
              "                    --jp-widgets-color: white;\n",
              "                    --jp-widgets-label-color: white;\n",
              "                    --jp-ui-font-color1: white;\n",
              "                    --jp-layout-color2: #454545;\n",
              "                    background-color: #383838;\n",
              "                }\n",
              "\n",
              "                .geemap-dark .jupyter-button {\n",
              "                    --jp-layout-color3: #383838;\n",
              "                }\n",
              "\n",
              "                .geemap-colab {\n",
              "                    background-color: var(--colab-primary-surface-color, white);\n",
              "                }\n",
              "\n",
              "                .geemap-colab .jupyter-button {\n",
              "                    --jp-layout-color3: var(--colab-primary-surface-color, white);\n",
              "                }\n",
              "            </style>\n",
              "            "
            ]
          },
          "metadata": {}
        }
      ],
      "source": [
        "import ee\n",
        "import geemap\n",
        "import numpy as np\n",
        "import matplotlib.pyplot as plt"
      ]
    },
    {
      "cell_type": "code",
      "source": [
        "ee.Authenticate()\n",
        "ee.Initialize(project=\"ee-saeiddalirisu\", opt_url='https://earthengine-highvolume.googleapis.com')"
      ],
      "metadata": {
        "colab": {
          "base_uri": "https://localhost:8080/",
          "height": 17
        },
        "id": "Huave8QibVXO",
        "outputId": "f53b9d69-9c1f-43e5-c343-7ee7327ef986"
      },
      "execution_count": null,
      "outputs": [
        {
          "output_type": "display_data",
          "data": {
            "text/plain": [
              "<IPython.core.display.HTML object>"
            ],
            "text/html": [
              "\n",
              "            <style>\n",
              "                .geemap-dark {\n",
              "                    --jp-widgets-color: white;\n",
              "                    --jp-widgets-label-color: white;\n",
              "                    --jp-ui-font-color1: white;\n",
              "                    --jp-layout-color2: #454545;\n",
              "                    background-color: #383838;\n",
              "                }\n",
              "\n",
              "                .geemap-dark .jupyter-button {\n",
              "                    --jp-layout-color3: #383838;\n",
              "                }\n",
              "\n",
              "                .geemap-colab {\n",
              "                    background-color: var(--colab-primary-surface-color, white);\n",
              "                }\n",
              "\n",
              "                .geemap-colab .jupyter-button {\n",
              "                    --jp-layout-color3: var(--colab-primary-surface-color, white);\n",
              "                }\n",
              "            </style>\n",
              "            "
            ]
          },
          "metadata": {}
        }
      ]
    },
    {
      "cell_type": "code",
      "source": [
        "# Define variables\n",
        "country_name = 'Italy'\n",
        "region_name = 'Lombardia'\n",
        "city_name = 'Lecco'\n",
        "time_start = '2024-01-01'\n",
        "time_end = '2024-12-30'"
      ],
      "metadata": {
        "colab": {
          "base_uri": "https://localhost:8080/",
          "height": 17
        },
        "id": "oqkPhxAhbsSH",
        "outputId": "dfa1432f-996c-4724-d5eb-b8095c3604b7"
      },
      "execution_count": null,
      "outputs": [
        {
          "output_type": "display_data",
          "data": {
            "text/plain": [
              "<IPython.core.display.HTML object>"
            ],
            "text/html": [
              "\n",
              "            <style>\n",
              "                .geemap-dark {\n",
              "                    --jp-widgets-color: white;\n",
              "                    --jp-widgets-label-color: white;\n",
              "                    --jp-ui-font-color1: white;\n",
              "                    --jp-layout-color2: #454545;\n",
              "                    background-color: #383838;\n",
              "                }\n",
              "\n",
              "                .geemap-dark .jupyter-button {\n",
              "                    --jp-layout-color3: #383838;\n",
              "                }\n",
              "\n",
              "                .geemap-colab {\n",
              "                    background-color: var(--colab-primary-surface-color, white);\n",
              "                }\n",
              "\n",
              "                .geemap-colab .jupyter-button {\n",
              "                    --jp-layout-color3: var(--colab-primary-surface-color, white);\n",
              "                }\n",
              "            </style>\n",
              "            "
            ]
          },
          "metadata": {}
        }
      ]
    },
    {
      "cell_type": "code",
      "source": [
        "# Load and filter administrative boundaries\n",
        "roi = (ee.FeatureCollection(\"FAO/GAUL_SIMPLIFIED_500m/2015/level2\")\n",
        "          .filter(ee.Filter.eq('ADM0_NAME', country_name))\n",
        "          .filter(ee.Filter.eq('ADM1_NAME', region_name))\n",
        "          .filter(ee.Filter.eq('ADM2_NAME', city_name)))\n"
      ],
      "metadata": {
        "colab": {
          "base_uri": "https://localhost:8080/",
          "height": 17
        },
        "id": "_esv6VzzbcA6",
        "outputId": "054410c2-a05b-4651-b6c6-1f751c2e9ff3"
      },
      "execution_count": null,
      "outputs": [
        {
          "output_type": "display_data",
          "data": {
            "text/plain": [
              "<IPython.core.display.HTML object>"
            ],
            "text/html": [
              "\n",
              "            <style>\n",
              "                .geemap-dark {\n",
              "                    --jp-widgets-color: white;\n",
              "                    --jp-widgets-label-color: white;\n",
              "                    --jp-ui-font-color1: white;\n",
              "                    --jp-layout-color2: #454545;\n",
              "                    background-color: #383838;\n",
              "                }\n",
              "\n",
              "                .geemap-dark .jupyter-button {\n",
              "                    --jp-layout-color3: #383838;\n",
              "                }\n",
              "\n",
              "                .geemap-colab {\n",
              "                    background-color: var(--colab-primary-surface-color, white);\n",
              "                }\n",
              "\n",
              "                .geemap-colab .jupyter-button {\n",
              "                    --jp-layout-color3: var(--colab-primary-surface-color, white);\n",
              "                }\n",
              "            </style>\n",
              "            "
            ]
          },
          "metadata": {}
        }
      ]
    },
    {
      "cell_type": "code",
      "source": [
        "landsat = (ee.ImageCollection(\"LANDSAT/LC08/C02/T1_L2\")\n",
        "    .filterBounds(roi)\n",
        "    .filterDate(time_start, time_end)\n",
        "    .filter(ee.Filter.eq('WRS_PATH', 194))\n",
        "    .filter(ee.Filter.eq('WRS_ROW', 28))\n",
        "    .filter(ee.Filter.lt('CLOUD_COVER', 10))\n",
        "    .map(lambda img: (\n",
        "    img.select('SR_B.*').multiply(ee.Number(img.get('REFLECTANCE_MULT_BAND_3')))\n",
        "    .add(ee.Number(img.get('REFLECTANCE_ADD_BAND_3')))\n",
        "    .normalizedDifference(['SR_B5', 'SR_B4']).rename('ndvi')  # Calculate NDVI\n",
        "    .addBands(\n",
        "        img.select('ST_B10').multiply(0.00341802).add(149).rename('lst')  # Calculate LST\n",
        "    )\n",
        "    .copyProperties(img, img.propertyNames())  # Copy image properties\n",
        "))\n",
        ")\n"
      ],
      "metadata": {
        "id": "jeDm7gYFoRA1"
      },
      "execution_count": null,
      "outputs": []
    },
    {
      "cell_type": "code",
      "source": [
        "# Apply mask based on NDVI condition and return updated LST\n",
        "lst_full_cover = landsat.map(lambda img: (\n",
        "    img.select('lst').updateMask(img.select('ndvi').gt(0.3))  # Apply mask where NDVI > 0.3\n",
        "    .rename('lst')  # Rename the LST band\n",
        "    .copyProperties(img, img.propertyNames())  # Copy properties from the original image\n",
        "))\n",
        "\n",
        "# The lst_full_cover will now contain the images with the masked LST based on NDVI > 0.3\n",
        "lst_full_cover"
      ],
      "metadata": {
        "id": "kEc2qtJ-ttKW"
      },
      "execution_count": null,
      "outputs": []
    },
    {
      "cell_type": "code",
      "source": [
        "# Apply mask based on NDVI condition and return updated LST\n",
        "lst_bareland = landsat.map(lambda img: (\n",
        "    img.select('lst').updateMask(img.select('ndvi').gte(0).And(img.select('ndvi').lt(0.2)))  # Apply mask where NDVI is between 0 and 0.2\n",
        "    .rename('lst')  # Rename the LST band\n",
        "    .copyProperties(img, img.propertyNames())  # Copy properties from the original image\n",
        "))\n",
        "\n",
        "# The lst_bareland will now contain the images with the masked LST based on NDVI between 0 and 0.2\n",
        "lst_bareland\n"
      ],
      "metadata": {
        "id": "nbEKI6S6v_hz"
      },
      "execution_count": null,
      "outputs": []
    },
    {
      "cell_type": "code",
      "source": [
        "id = ee.Number(lst_bareland.max().reduceRegion(\n",
        "    reducer=ee.Reducer.max(),\n",
        "    geometry=roi,\n",
        "    scale=100\n",
        ").get('lst'))\n",
        "\n",
        "vd = ee.Number(lst_full_cover.max().reduceRegion(\n",
        "    reducer=ee.Reducer.max(),\n",
        "    geometry=roi,\n",
        "    scale=100\n",
        ").get('lst'))\n",
        "\n",
        "iw = ee.Number(lst_bareland.min().reduceRegion(\n",
        "    reducer=ee.Reducer.min(),\n",
        "    geometry=roi,\n",
        "    scale=100\n",
        ").get('lst'))\n",
        "\n",
        "vw = ee.Number(lst_full_cover.min().reduceRegion(\n",
        "    reducer=ee.Reducer.min(),\n",
        "    geometry=roi,\n",
        "    scale=100\n",
        ").get('lst'))\n",
        "\n",
        "\n",
        "sd = id.subtract(vd)\n",
        "sw = iw.subtract(vw)"
      ],
      "metadata": {
        "colab": {
          "base_uri": "https://localhost:8080/",
          "height": 17
        },
        "id": "4L26pYJExcUs",
        "outputId": "82eff72e-ab1b-4b09-9a99-8e57320806dc"
      },
      "execution_count": null,
      "outputs": [
        {
          "output_type": "display_data",
          "data": {
            "text/plain": [
              "<IPython.core.display.HTML object>"
            ],
            "text/html": [
              "\n",
              "            <style>\n",
              "                .geemap-dark {\n",
              "                    --jp-widgets-color: white;\n",
              "                    --jp-widgets-label-color: white;\n",
              "                    --jp-ui-font-color1: white;\n",
              "                    --jp-layout-color2: #454545;\n",
              "                    background-color: #383838;\n",
              "                }\n",
              "\n",
              "                .geemap-dark .jupyter-button {\n",
              "                    --jp-layout-color3: #383838;\n",
              "                }\n",
              "\n",
              "                .geemap-colab {\n",
              "                    background-color: var(--colab-primary-surface-color, white);\n",
              "                }\n",
              "\n",
              "                .geemap-colab .jupyter-button {\n",
              "                    --jp-layout-color3: var(--colab-primary-surface-color, white);\n",
              "                }\n",
              "            </style>\n",
              "            "
            ]
          },
          "metadata": {}
        }
      ]
    },
    {
      "cell_type": "code",
      "source": [
        "sm = landsat.map(lambda img: (\n",
        "    img.expression(\n",
        "        '(id + sd * ndvi - lst) / (id - iw + (sd - sw) * ndvi)', {\n",
        "            'id': id,\n",
        "            'sd': sd,\n",
        "            'ndvi': img.select('ndvi'),\n",
        "            'lst': img.select('lst'),\n",
        "            'iw': iw,\n",
        "            'sw': sw\n",
        "        }).rename('soil_moisture')\n",
        "    .copyProperties(img, img.propertyNames())\n",
        "))\n"
      ],
      "metadata": {
        "colab": {
          "base_uri": "https://localhost:8080/",
          "height": 17
        },
        "id": "Ndkr5B2YyCsE",
        "outputId": "fc53b66a-94bd-4131-8b7a-c9cfe76ffde4"
      },
      "execution_count": null,
      "outputs": [
        {
          "output_type": "display_data",
          "data": {
            "text/plain": [
              "<IPython.core.display.HTML object>"
            ],
            "text/html": [
              "\n",
              "            <style>\n",
              "                .geemap-dark {\n",
              "                    --jp-widgets-color: white;\n",
              "                    --jp-widgets-label-color: white;\n",
              "                    --jp-ui-font-color1: white;\n",
              "                    --jp-layout-color2: #454545;\n",
              "                    background-color: #383838;\n",
              "                }\n",
              "\n",
              "                .geemap-dark .jupyter-button {\n",
              "                    --jp-layout-color3: #383838;\n",
              "                }\n",
              "\n",
              "                .geemap-colab {\n",
              "                    background-color: var(--colab-primary-surface-color, white);\n",
              "                }\n",
              "\n",
              "                .geemap-colab .jupyter-button {\n",
              "                    --jp-layout-color3: var(--colab-primary-surface-color, white);\n",
              "                }\n",
              "            </style>\n",
              "            "
            ]
          },
          "metadata": {}
        }
      ]
    },
    {
      "cell_type": "code",
      "source": [
        "\n",
        "def get_band_values(img):\n",
        "    image_date = img.get('system:time_start')\n",
        "    image_date = ee.Date(image_date).format('YYYY-MM-dd').getInfo()\n",
        "\n",
        "    region_values = img.reduceRegion(\n",
        "        reducer=ee.Reducer.mean(),\n",
        "        geometry=roi,\n",
        "        scale=30,\n",
        "        maxPixels=1e8\n",
        "    )\n",
        "\n",
        "    return (image_date, region_values)\n",
        "\n",
        "band_values_dict = {}\n",
        "\n",
        "for i in range(sm.size().getInfo()):\n",
        "    img = sm.toList(sm.size()).get(i)\n",
        "    date, band_values = get_band_values(ee.Image(img))\n",
        "    band_values_dict[date] = band_values.getInfo()  # Add the data to the dictionary\n",
        "\n",
        "import matplotlib.pyplot as plt\n",
        "\n",
        "\n",
        "dates = []\n",
        "soil_moisture_values = []\n",
        "\n",
        "for date, band_values in band_values_dict.items():\n",
        "    if 'soil_moisture' in band_values:  # Check if the soil moisture band exists\n",
        "        soil_moisture_values.append(band_values['soil_moisture'])\n",
        "        dates.append(date)\n",
        "\n",
        "date_nums = np.arange(len(dates))\n",
        "\n",
        "slope, intercept = np.polyfit(date_nums, soil_moisture_values, 1)\n",
        "trendline = np.polyval([slope, intercept], date_nums)\n",
        "\n",
        "plt.figure(figsize=(20, 6))\n",
        "plt.plot(dates, soil_moisture_values, marker='o', linestyle='-', color='b', label='Soil Moisture')\n",
        "plt.plot(dates, trendline, color='r', linestyle='--', label='Trendline')\n",
        "\n",
        "\n",
        "plt.xlabel('Date')\n",
        "plt.ylabel('Soil Moisture')\n",
        "plt.title('Soil Moisture over Time')\n",
        "plt.xticks(rotation=45)\n",
        "plt.grid(True)\n",
        "plt.legend()\n",
        "plt.tight_layout()\n",
        "plt.savefig('soil_moisture_trendline.png', format='png')"
      ],
      "metadata": {
        "id": "bD0Tqalb3xnv"
      },
      "execution_count": null,
      "outputs": []
    }
  ]
}